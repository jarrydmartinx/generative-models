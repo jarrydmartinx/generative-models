{
  "nbformat": 4,
  "nbformat_minor": 0,
  "metadata": {
    "colab": {
      "name": "Variational Autoencoder: Theory and Code.ipynb",
      "provenance": [],
      "collapsed_sections": [
        "jnLK0BmafFCY",
        "oCjTpfo1XmG2"
      ],
      "include_colab_link": true
    },
    "kernelspec": {
      "name": "python3",
      "display_name": "Python 3"
    },
    "accelerator": "GPU"
  },
  "cells": [
    {
      "cell_type": "markdown",
      "metadata": {
        "id": "view-in-github",
        "colab_type": "text"
      },
      "source": [
        "<a href=\"https://colab.research.google.com/github/jarrydmartinx/generative-models/blob/master/variational-autoencoder-theory.ipynb\" target=\"_parent\"><img src=\"https://colab.research.google.com/assets/colab-badge.svg\" alt=\"Open In Colab\"/></a>"
      ]
    },
    {
      "cell_type": "markdown",
      "metadata": {
        "id": "JdumEh0rBT5s",
        "colab_type": "text"
      },
      "source": [
        "# Theory: Generative Models and Variational Autoencoders"
      ]
    },
    {
      "cell_type": "markdown",
      "metadata": {
        "id": "riEyUKUcBd58",
        "colab_type": "text"
      },
      "source": [
        "## What are generative models?\n"
      ]
    },
    {
      "cell_type": "markdown",
      "metadata": {
        "id": "rQcpyHa1Jtsz",
        "colab_type": "text"
      },
      "source": [
        "The term is used in many ways, here it refers to any model that takes a training set $\\mathbf{X} = \\{\\mathbf{x}^{(i)}\\}^N_{i=1}$, consisting of samples $\\mathbf{x}^{(i)}$ drawn from a 'true' distribution $p_{\\text{data}}(\\mathbf{x})$, and learns to represent an estimate of that distribution somehow. The result is a probability distribution $p_{\\text{model}}(\\mathbf{x})$. \n",
        "\n",
        "Different models do one or more of the following:\n",
        "* Represent this distribution $p_{\\text{model}}(\\mathbf{x})$ explicitly.\n",
        "* Allow the distribution $p_{\\text{model}}(\\mathbf{x})$, or some approximation to it, to be computed numerically, for any $\\mathbf{x}$\n",
        "* Allow generation of samples from the model distribution $p_{\\text{model}}(\\mathbf{x})$.\n",
        "\n",
        "Spoiler: Variational Autoencoders do all three things.\n",
        "\n",
        "Here lets restrict ourselves, following Goodfellow (2016), to generative models that work using the principle of maximum likelihood. Note that some of the models mentioned are often used with principles other than maximum likelihood.\n"
      ]
    },
    {
      "cell_type": "markdown",
      "metadata": {
        "id": "Gu7xcBOR-XFx",
        "colab_type": "text"
      },
      "source": [
        "\n",
        "### Maximum Likelihood and Generative Models\n",
        "* The basic idea of maximum likelihood is to define a model that outputs an estimate of a probability distribution over the input space.\n",
        "* We then refer to the **likelihood** as the probability that model assigns to the training data. For i.i.d data:\n",
        "$$ \\prod_{i}p_\\text{model}(\\mathbf{x}^{(i)};\\mathbf{\\theta})$$\n",
        "* The **maximum likelihood principle** dictates that we choose the parameters $\\theta$ that maximise this likelihood. This is easiest to do in log space; it simplifies the expressions and is more numerical stable. Hence:\n",
        "$$ \n",
        "\\mathbf{\\theta}^* = \\arg\\max_\\mathbf{\\theta} \\sum_i \\log p_\\text{model}(\\mathbf{x}^{(i)};\\mathbf{\\theta})\n",
        "$$\n",
        "* We can **think of** maximum likelihood as minimising the **KL divergence** between the data generating distribution and the model:\n",
        "$$\n",
        "\\mathbf{\\theta}^* = \\arg\\min_\\mathbf{\\theta}D_{KL}\\big( p_\\text{data}(\\mathbf{x}) \\Vert p_\\text{model}(\\mathbf{x};\\mathbf{\\theta}) \\big)\n",
        "$$\n",
        "  * If we had access to  $p_\\text{data}(\\mathbf{x})$, and it were a member of the family of distributions $ p_\\text{model}(\\mathbf{x};\\mathbf{\\theta}) $, then we would recover $p_\\text{data}(\\mathbf{x})$  exactly.\n",
        "  * However, we don't have access to $p_\\text{data}(\\mathbf{x})$; instead, we only have $N$ samples from $p_\\text{data}(\\mathbf{x})$. \n",
        "* We define an **empirical distribution** $\\hat{p}_\\text{data}(\\mathbf{x})$ that places mass only at these N points, approximating.\n",
        "  * Minimising the KL divergence between the empirical distribution $\\hat{p}_\\text{data}(\\mathbf{x})$ and  $p_\\text{model}(\\mathbf{x};\\mathbf{\\theta}) \\big) $ is **exactly equivalent** to maximising the log likelihood of the training set.\n",
        "  * The justifications for use of the KL (as the only divergence that is a reasonable measure of relative information) therefore provide some justification for the maximum likelihood principle.\n"
      ]
    },
    {
      "cell_type": "markdown",
      "metadata": {
        "id": "86geP0csR3K3",
        "colab_type": "text"
      },
      "source": [
        "### Taxonomy of Generative Models using Maximum Likelihood Principle\n",
        "We can distinguish the way different generative models work by contrasting the ways they compute the likelihood and its gradients, or approximations to these quantities.\n",
        "\n",
        "\n",
        "![texto alternativo](https://cdn-images-1.medium.com/max/800/1*otb47mG5KQWNh91prmyxzg.png)"
      ]
    },
    {
      "cell_type": "markdown",
      "metadata": {
        "id": "o1MVpm0uBjsx",
        "colab_type": "text"
      },
      "source": [
        "## The VAE Generative Model $p_\\text{model}(\\mathbf{x};\\theta)$\n"
      ]
    },
    {
      "cell_type": "markdown",
      "metadata": {
        "colab_type": "text",
        "id": "fbOIEqF7T-FY"
      },
      "source": [
        "In the taxonomy above, VAEs are generative models that provide an explicit, but **intractable** density function.\n",
        "* This avoids the disadvantages of designing models with tractable density functions (e.g. FVBNs above).\n",
        "* However, we must resort to **approximation** to maximise the likelihood"
      ]
    },
    {
      "cell_type": "markdown",
      "metadata": {
        "id": "oyo_6V-8DRGr",
        "colab_type": "text"
      },
      "source": [
        "\n",
        "### VAE Modelling Assumptions\n",
        "Recall that we have a training set $\\mathbf{X} = \\{\\mathbf{x}^{(i)}\\}^N_{i=1}$, consisting of $N$ independent samples $\\mathbf{x}^{(i)}$ of a random variable $x$ with density $p_\\text{data}(\\mathbf{x})$. The VAE model makes the following 3 assumptions about $p_\\text{data}(\\mathbf{x})$\n",
        "1. Assume the data are generated by a random process involving an unobserved continuous random variable $\\mathbf{z}$. Assume the process has two steps:\n",
        "  * a value $\\mathbf{z}^{(i)}$ is generated from some prior distribution $p_{\\theta^*}(\\mathbf{z})$, then\n",
        "  * a value $\\mathbf{x}^{(i)}$ is generated from some conditional distribution $p_{\\theta^*}(\\mathbf{x} \\mid \\mathbf{z})$\n",
        "  \n",
        "This amounts to assuming that, for a single sample $\\mathbf{x}^{(i)}$:\n",
        "  $$ p_\\text{data}(\\mathbf{x}^{(i)}) = \\int p_{\\theta^*}(\\mathbf{x}^{(i)},\\mathbf{z})dz = \\int p_{\\theta^*}(\\mathbf{z})p_{\\theta^*}(\\mathbf{x}^{(i)}|\\mathbf{z}) dz\n",
        "  $$\n",
        "\n",
        "\n",
        "\n",
        "3. Assume their pdfs are differentiable in $\\theta$ and $z$ almost everywhere\n",
        "\n",
        "### The VAE Model of the Marginal Likelihood $p_\\text{model}(\\mathbf{x}^{(i)};\\theta)$\n",
        "The VAE model introduces latent variables and expresses the marginal likelihood of observed variables as an expectation over the latent variables.\n",
        "$$\n",
        "\\boxed{p_\\text{model}(\\mathbf{x}^{(i)};\\theta) = \\int p_\\theta(\\mathbf{x}^{(i)},\\mathbf{z})dz = \\int p_\\theta(\\mathbf{z})p_\\theta(\\mathbf{x}|\\mathbf{z}) dz}\n",
        "$$\n",
        "The true parameters $\\theta^*$ and the values of the latent variables $z$ are unknown to us\n",
        "\n",
        "### What assumptions did we NOT make?\n",
        "Note that we do **not** make the common assumptions necessary to make the following tractable:\n",
        "  * The model marginal likelihood $p_\\text{model}(\\mathbf{x};\\theta)$\n",
        "  * The model posterior $p_\\theta(\\mathbf{z} \\mid \\mathbf{x})$. Note that intractibility precludes the use of the EM algorithm.\n",
        " \n",
        "In general, these are not tractable. Note that these intractabilities are quite common, and appear in the case of even moderately complicated likelihood functions $p_{\\theta}(\\mathbf{x}|\\mathbf{z})$ , e.g. a neural network with one nonlinear hidden layer. \n",
        "\n"
      ]
    },
    {
      "cell_type": "markdown",
      "metadata": {
        "id": "umrw5TuRDUkz",
        "colab_type": "text"
      },
      "source": [
        "\n",
        "\n",
        "### Intractability of the Model Marginal Likelihood $p_\\text{model}(\\mathbf{x};\\theta)$\n",
        "* To find the optimal parameters $\\theta^*$ by maximum likelihood, we must compute an estimate of the marginal likelihood for each training sample $\\mathbf{x}^{(i)}$.\n",
        "* However, **we cannot in general evaluate the marginal likelihood $p_\\text{model}(\\mathbf{x};\\theta)$ exactly**. We can of course simulate the data generating process:\n",
        "  1. Sample a value from the prior, to get $z^{(i)} \\sim p_\\theta(z)$\n",
        "  2. Compute the likelihood $p_\\theta(x|z^{(i)})$ using the decoder.\n",
        "  3. As the number of samples $\\to\\infty$, the sample mean of the likelihood approaches $p_\\text{model}(\\mathbf{x};\\theta)$\n",
        "  \n",
        "  As we mentioned, this is not tractable in general. If p(x|z) is small for most $z$ drawn from the prior, it will take a large number of samples to get an accurate estimate (i.e. to include enough samples where p(x|z) is large).\n",
        "* Instead of computing this directly, the VAE approach is to compute a lower bound on $\\log p_\\text{model}(\\mathbf{x};\\theta)$.\n",
        "* Note also that sampling-based solutions like Monte-Carlo EM would be too slow for large datasets where we want to make parameter updates using small minibatches or even single datapoints. This is because it typically involves an expensive sampling loop per datapoint."
      ]
    },
    {
      "cell_type": "markdown",
      "metadata": {
        "id": "Api5FE_4Mlww",
        "colab_type": "text"
      },
      "source": [
        "### The Variational Lower Bound  $\\mathcal{L}(\\theta, \\phi; \\mathbf{x}^{(i)})$ on the Marginal Log-Likelihood $\\log p_\\text{model}(\\mathbf{\\mathbf{x}^{(i)}};\\theta)$\n",
        "\n",
        "\n",
        "The marginal log-likelihood under our model for a single training sample $\\mathbf{x}^{(i)}$ can be rewritten as:\n",
        "\\begin{align}\n",
        "\\log p(\\mathbf{x}^{(i)}; \\mathbf{\\theta}) \\quad\n",
        "&= \\quad \\mathbb{E}_{q(z|x)}\\left[\\log p_\\theta(\\mathbf{x}^{(i)})\\right] \\\\\n",
        "&= \\quad \\mathbb{E}_{q(z|x)}\\left[\\log \\frac{p_\\theta(\\mathbf{x}^{(i)},\\mathbf{z})}{p_\\theta(\\mathbf{z}\\mid \\mathbf{x}^{(i)})}\\right] \\\\\n",
        "&= \\quad \\mathbb{E}_{q(z|\\mathbf{x})}\\left[\\log \\frac{p_\\theta(\\mathbf{x}^{(i)}, \\mathbf{z})\\ q_\\phi(\\mathbf{z} \\mid \\mathbf{x}^{(i)})}{q_\\phi(\\mathbf{z} \\mid \\mathbf{x}^{(i)})\\ p_\\theta(\\mathbf{z}\\mid \\mathbf{x}^{(i)})} \\right]\\\\\n",
        "&= \\quad \\mathbb{E}_{q(z|\\mathbf{x})}\\left[\\log \\frac{p_\\theta(\\mathbf{x}^{(i)},\\mathbf{z})}{q_\\phi(\\mathbf{z} \\mid \\mathbf{x}^{(i)})} + \\log \\frac{q_\\phi(\\mathbf{z} \\mid \\mathbf{x}^{(i)})}{p_\\theta(\\mathbf{z}\\mid \\mathbf{x}^{(i)})}\\right]\\\\\n",
        "&= \\quad \\mathbb{E}_{q(\\mathbf{z}|\\mathbf{x})}\\left[\\log \\frac{p_\\theta(\\mathbf{x}^{(i)}, \\mathbf{z})}{q_\\phi(\\mathbf{z} \\mid \\mathbf{x}^{(i)})}\\right] +  \\mathbb{E}_{q(z|\\mathbf{x})}\\left[\\log \\frac{q_\\phi(\\mathbf{z} \\mid \\mathbf{x}^{(i)})}{ p_\\theta(\\mathbf{z}\\mid \\mathbf{x}^{(i)})}\\right] \\\\\n",
        "&= \\underbrace{\\mathcal{L}(\\theta, \\phi ; \\mathbf{x}^{(i)})}_\\text{Var. lower bound on marg. log-likelihood of $\\mathbf{x}^{(i)}$} + \\qquad   \\underbrace{D_{KL} (q_\\phi(z \\mid \\mathbf{x}^{(i)}) \\Vert p_\\theta(\\mathbf{z}\\mid \\mathbf{x}^{(i)}))}_\\text{KL bw approximate and 'true' model posterior ($\\theta$-dependent)} \n",
        "\\end{align}\n",
        "\n",
        "We can write the evidence lower bound (ELBO) as:\n",
        "\\begin{align}\n",
        "\\log p_\\theta(\\mathbf{x}^{(i)}) \n",
        "&\\geq \\quad \\mathcal{L}(\\theta, \\phi; \\mathbf{x}^{(i)}) \\\\\n",
        "&= \\quad \\mathbb{E}_{q(z\\mid\\mathbf{x}^{(i)})}\\left[\\log \\frac{p(\\mathbf{x}^{(i)}, z)}{q(z|\\mathbf{x}^{(i)})}\\right] \\\\\n",
        "&= \\quad \\mathbb{E}_{q_\\phi (z\\mid \\mathbf{x}^{(i)})}\\big\\{\\log p_\\theta (\\mathbf{x}^{(i)}, z) -\\log q_\\phi (z \\mid \\mathbf{x}^{(i)}) \\big\\} \\\\\n",
        "&= \\quad \\underbrace{\\mathbb{E}_{q_\\phi (z\\mid \\mathbf{x}^{(i)})}\\big\\{\\log p_\\theta (\\mathbf{x}^{(i)}, z) \\big\\}}_\\text{Exp. complete data log-likelihood} \\qquad +  \\underbrace{H(q_\\phi (z\\mid \\mathbf{x}^{(i)}))}_\\text{Entropy of approx. posterior $q$}\\\\\n",
        "\\end{align}\n",
        "\n",
        "\n",
        "For our purposes, we will rewrite this equation in a form that best reflects the way VAEs compute an estimate of the (negative) ELBO:\n",
        "\\begin{align}\n",
        "\\boxed{- \\mathcal{L}(\\theta, \\phi; x^{(i)}) = \\qquad \\underbrace{- \\mathbb{E}_{q_\\phi(z \\mid x^{(i)})} \\big\\{\\log p_\\theta (x^{(i)}\\mid z) \\big\\}}_\\text{exp'd recontruction error}  \\qquad + \\underbrace{D_{KL}(q_\\phi (z\\mid x^{(i)}) \\Vert p_\\theta(z))}_{\\text{regularizes $\\phi$ so approx. posterior $q_\\phi$ is close to prior $p_\\theta$}}}\n",
        "\\end{align}\n",
        "\n",
        "(it's nice because it's equivalent to maximising the expectation pictured above, but with respect to q(z|x) instead of p(z), with a KL correction term which penalises how far q(z|x) is from p(z))\n",
        "\n",
        "\n"
      ]
    },
    {
      "cell_type": "markdown",
      "metadata": {
        "id": "QtOjQqzZr1d0",
        "colab_type": "text"
      },
      "source": [
        "![texto alternativo](https://pbs.twimg.com/media/C31GCqdWEAA_xVm.jpg =300x)"
      ]
    },
    {
      "cell_type": "markdown",
      "metadata": {
        "id": "5wn4UDiziTR1",
        "colab_type": "text"
      },
      "source": [
        "### Estimating the ELBO $\\mathcal{L}(\\theta, \\phi; x^{(i)})$ and its gradients\n",
        "* VAEs train by maximizing the evidence lower bound (ELBO) on the marginal log-likelihood, which is an expectation taken against $q_\\phi (z'\\mid x)$. In practice we often only compute the single sample Monte Carlo estimate of this expectation:\n",
        "\\begin{align}\n",
        "&\\mathbb{E}_{q_\\phi (\\mathbf{z}^{(i)}\\mid \\mathbf{x}^{(i)})}\\big\\{\\log p_\\theta (\\mathbf{x}^{(i)}, \\mathbf{z}^{(i)}) -\\log q_\\phi (\\mathbf{z}^{(i)} \\mid \\mathbf{x}^{(i)}) \\big\\} \\\\\n",
        "\\approx \\quad &\\frac{1}{L}\\sum_{l = 1}^{L} \\log p_\\theta (\\mathbf{z}^{(i,l)}) + \\log p_\\theta (\\mathbf{x}^{(i)} \\mid \\mathbf{z}^{(i,l)}) - \\log q_\\phi (\\mathbf{z}^{(i,l)} \\mid \\mathbf{x}^{(i)}) \\qquad \\mathbf{z}^{(i,l)}  \\sim q_\\phi (\\mathbf{z}\\mid \\mathbf{x}^{(i)}) \\\\\n",
        "\\approx \\quad &\\log p_\\theta (\\mathbf{z}^{(i,l)}) + \\log p_\\theta (\\mathbf{x}^{(i)} \\mid \\mathbf{\\mathbf{z}}^{(i,l)}) - \\log q_\\phi (\\mathbf{z}^{(i,l)} \\mid \\mathbf{x}^{(i)}) \\qquad \\mathbf{z}^{(i,l)}  \\sim q_\\phi (\\mathbf{z} \\mid \\mathbf{x}^{(i)})\n",
        "\\end{align}\n",
        "\n",
        "If the KL term can be integrated analytically, we need only compute an estimate of the expected reconstruction error.\n",
        "  * The single sample Monte Carlo estimate of the expected reconstruction error is:\n",
        "$$\\log p(\\mathbf{x}^{(i)}| z') \\qquad z'\\sim q_{\\phi}(z|\\mathbf{x}^{(i)})$$"
      ]
    },
    {
      "cell_type": "markdown",
      "metadata": {
        "id": "uyGPtV21MzI6",
        "colab_type": "text"
      },
      "source": [
        "### How do we sample from $q_{\\phi}(z|\\mathbf{x}^{(i)})$\n",
        "\n"
      ]
    },
    {
      "cell_type": "markdown",
      "metadata": {
        "id": "gZiyZzLtZ1zP",
        "colab_type": "text"
      },
      "source": [
        "\n",
        "![texto alternativo](https://jaan.io/images/encoder-decoder.png =350x)"
      ]
    },
    {
      "cell_type": "markdown",
      "metadata": {
        "id": "E9zDll8oR24q",
        "colab_type": "text"
      },
      "source": [
        "\n",
        "## Using a VAE as a Generative Model"
      ]
    },
    {
      "cell_type": "markdown",
      "metadata": {
        "id": "J9k47CJ7MLMQ",
        "colab_type": "text"
      },
      "source": [
        "**THE NOISE VARAIBLE HAS NOTHING TO DO WITH THE PRIOR OVER THE LATENT VARIABLES**"
      ]
    },
    {
      "cell_type": "markdown",
      "metadata": {
        "id": "96WRz9c61shl",
        "colab_type": "text"
      },
      "source": [
        "We'll discuss two ways in which we can use a trained VAE as a generative model: computing estimates of likelihoods, and sampling.\n",
        "###  Compute an estimate of the Marginal Likelihood $p_\\text{model}(\\mathbf{x})$ \n",
        "\n",
        "* As mentioned, we can't compute our model likelihood exactly, as $\n",
        "p_\\text{model}(\\mathbf{x}^{(i)};\\theta) = \\int p_\\theta(\\mathbf{x}^{(i)},\\mathbf{z})dz = \\int p_\\theta(\\mathbf{z})p_\\theta(\\mathbf{x}|\\mathbf{z}) dz $ is intractable in general.\n",
        "* However, we can compute the **ELBO** as an **approximation to $p_\\text{model}(\\mathbf{x})$**, for any $x$, by the following procedure:\n",
        "  * Pass x into the encoder to get the parameters of the distribution q(z\\mid x).\n",
        "  * \n",
        "\n",
        "  1. Pass our \n",
        "\n",
        "The quality of this approximation is only limited by the quality of our approximation to the posterior\n",
        "### Sample from $p_\\text{model}(\\mathbf{x}^{(i)};\\theta) = p_\\theta(z) p_\\theta(x\\mid z)$\n",
        "  1. Sample a value from the prior, to get $z^{(i)} \\sim p_\\theta(z)$\n",
        "  2. Sample a value from the conditional distribution $p_\\theta(x|z^{(i)})$ output by the decoder\n",
        "  3. As the number of samples $\\to\\infty$, the sample mean approaches $p_\\text{model}(\\mathbf{x};\\theta)$\n",
        "\n",
        "\n",
        "TO SUMMARIZE:\n",
        "\n",
        "Two ways to use VAE as an approximate generative model of p(x):\n",
        "1. evaluate the expectation below by sampling from the prior and likelihood\n",
        "*expectation above\n",
        "2. evaluate the ELBO to lower bound p(x), by sampling from the variational approximation q(z|x) (encoder)\n",
        "NOW PART II\n",
        "Sampling: \n",
        "is just what you said.\n",
        "you just \n",
        "1.sample values in the latent space, according to the prior,\n",
        "2. pipe that value through the decoder to get parameters for your p(x|z) decoder distribution\n",
        "3. sample from that p(x|z) and that does give you a sample distributed according to p(x)\n",
        "DONE\n",
        "\n",
        "And my confusion before, regarding the fact that this shouldn't work since we're sampling from p(z), and the decoder is trained to decode values from q(z|x), was just a confusion about the fact that our decoder was trained using a variational approximation. sampling from the prior would be perfect if our approximation to the posterior p(z|x) was perfect."
      ]
    },
    {
      "cell_type": "code",
      "metadata": {
        "id": "1ghc_fAFFHVm",
        "colab_type": "code",
        "colab": {}
      },
      "source": [
        "! pip install -q dm-sonnet\n",
        "! pip install -q plotnine"
      ],
      "execution_count": 0,
      "outputs": []
    },
    {
      "cell_type": "code",
      "metadata": {
        "id": "AheyE1e4CUb3",
        "colab_type": "code",
        "outputId": "942c0f00-bfd2-4ff4-d78a-2e07c67eedd7",
        "colab": {
          "base_uri": "https://localhost:8080/",
          "height": 165
        }
      },
      "source": [
        "import numpy as np\n",
        "import pandas as pd\n",
        "# import plotnine as gg\n",
        "import sonnet as snt\n",
        "import tensorflow as tf\n",
        "\n",
        "import warnings\n",
        "warnings.filterwarnings('ignore')"
      ],
      "execution_count": 0,
      "outputs": [
        {
          "output_type": "stream",
          "text": [
            "\n",
            "WARNING: The TensorFlow contrib module will not be included in TensorFlow 2.0.\n",
            "For more information, please see:\n",
            "  * https://github.com/tensorflow/community/blob/master/rfcs/20180907-contrib-sunset.md\n",
            "  * https://github.com/tensorflow/addons\n",
            "If you depend on functionality not listed there, please file an issue.\n",
            "\n"
          ],
          "name": "stdout"
        }
      ]
    },
    {
      "cell_type": "code",
      "metadata": {
        "id": "hkQWD4QqW53L",
        "colab_type": "code",
        "colab": {}
      },
      "source": [
        "from __future__ import absolute_import, division, print_function\n",
        "\n",
        "# to generate gifs\n",
        "# !pip install tf-nightly-2.0-preview\n",
        "import tensorflow as tf\n",
        "!pip install imageio\n",
        "\n",
        "import os\n",
        "import time\n",
        "import numpy as np\n",
        "import glob\n",
        "import matplotlib.pyplot as plt\n",
        "import PIL\n",
        "import imageio\n",
        "\n",
        "from IPython import display"
      ],
      "execution_count": 0,
      "outputs": []
    },
    {
      "cell_type": "code",
      "metadata": {
        "id": "_zz3hNm_W4Lo",
        "colab_type": "code",
        "colab": {}
      },
      "source": [
        "import matplotlib.pyplot as plt"
      ],
      "execution_count": 0,
      "outputs": []
    },
    {
      "cell_type": "code",
      "metadata": {
        "colab_type": "code",
        "cellView": "form",
        "id": "ZiF3aRIje_0R",
        "colab": {}
      },
      "source": [
        "#@title TODO\n",
        "class Encoder(snt.AbstractModule):\n",
        "  \n",
        "  def __init__(self, latent_size: int):\n",
        "    super(self).__init__(name='encoder')\n",
        "    pass\n",
        "  \n",
        "  def _build(self, inputs: tf.Tensor):\n",
        "    pass"
      ],
      "execution_count": 0,
      "outputs": []
    },
    {
      "cell_type": "markdown",
      "metadata": {
        "id": "jnLK0BmafFCY",
        "colab_type": "text"
      },
      "source": [
        "## Examples"
      ]
    },
    {
      "cell_type": "code",
      "metadata": {
        "id": "k3qGF_JgLNPu",
        "colab_type": "code",
        "outputId": "e1c25bfa-826d-423f-a880-f6294bcb3158",
        "colab": {
          "base_uri": "https://localhost:8080/",
          "height": 87
        }
      },
      "source": [
        "initial_state = tf.get_variable(name='weight', shape=(16,), dtype=tf.float32, initializer=tf.initializers.truncated_normal(), trainable=False)"
      ],
      "execution_count": 0,
      "outputs": [
        {
          "output_type": "stream",
          "text": [
            "WARNING:tensorflow:From /usr/local/lib/python3.6/dist-packages/tensorflow/python/framework/op_def_library.py:263: colocate_with (from tensorflow.python.framework.ops) is deprecated and will be removed in a future version.\n",
            "Instructions for updating:\n",
            "Colocations handled automatically by placer.\n"
          ],
          "name": "stdout"
        }
      ]
    },
    {
      "cell_type": "code",
      "metadata": {
        "id": "RAyhZ8DiHxdB",
        "colab_type": "code",
        "colab": {}
      },
      "source": [
        "# with tf.variable_scope('sickone'):\n",
        "#   y = tf.random_normal(shape=(16,), name='latent')"
      ],
      "execution_count": 0,
      "outputs": []
    },
    {
      "cell_type": "code",
      "metadata": {
        "id": "pXWStVpHKQlY",
        "colab_type": "code",
        "colab": {}
      },
      "source": [
        "# with tf.Session() as sess:\n",
        "#   sess.run(tf.global_variables_initializer())\n",
        "#   result = sess.run(x)\n",
        "#   state_result = sess.run(initial_state)\n",
        "#   print()\n",
        "#   print('result: {}'.format(result))\n",
        "#   print('state: {}'.format(state_result))\n",
        "#   print('state: {}'.format(state_result))\n",
        "#   print('y sample: {}'.format(sess.run(y)))\n",
        "#   print('y sample: {}'.format(sess.run(y)))"
      ],
      "execution_count": 0,
      "outputs": []
    },
    {
      "cell_type": "markdown",
      "metadata": {
        "id": "oCjTpfo1XmG2",
        "colab_type": "text"
      },
      "source": [
        "## Make a simple conv"
      ]
    },
    {
      "cell_type": "code",
      "metadata": {
        "id": "6gvgXTZTQcjL",
        "colab_type": "code",
        "colab": {}
      },
      "source": [
        "# Reset the motherfucking graph.\n",
        "tf.reset_default_graph()\n",
        "\n",
        "# Make a convolutional layer consisting of 32 independent filters.\n",
        "conv_module = snt.Conv2D(output_channels=32, kernel_shape=(5, 5), stride=(2, 2))\n",
        "\n",
        "# Make some dummy (noise) inputs.\n",
        "inputs = tf.random_normal(shape=(1, 84, 84, 3))  # [N, H, W, C]\n",
        "\n",
        "# Pass the noise through our conv filters.\n",
        "filtered_image = conv_module(inputs)"
      ],
      "execution_count": 0,
      "outputs": []
    },
    {
      "cell_type": "code",
      "metadata": {
        "id": "xr_-qoJrUQL0",
        "colab_type": "code",
        "outputId": "e29c0e68-f489-40db-f6b5-c47636ec9735",
        "colab": {
          "base_uri": "https://localhost:8080/",
          "height": 74
        }
      },
      "source": [
        "tf.global_variables()"
      ],
      "execution_count": 0,
      "outputs": [
        {
          "output_type": "execute_result",
          "data": {
            "text/plain": [
              "[<tf.Variable 'conv_2d/w:0' shape=(5, 5, 3, 32) dtype=float32_ref>,\n",
              " <tf.Variable 'conv_2d/b:0' shape=(32,) dtype=float32_ref>]"
            ]
          },
          "metadata": {
            "tags": []
          },
          "execution_count": 10
        }
      ]
    },
    {
      "cell_type": "code",
      "metadata": {
        "id": "7Y89Rl8WUGdb",
        "colab_type": "code",
        "outputId": "2d3c3ed6-e795-412c-c273-85aabb464e4c",
        "colab": {
          "base_uri": "https://localhost:8080/",
          "height": 55
        }
      },
      "source": [
        "filtered_image"
      ],
      "execution_count": 0,
      "outputs": [
        {
          "output_type": "execute_result",
          "data": {
            "text/plain": [
              "<tf.Tensor 'conv_2d/BiasAdd:0' shape=(1, 42, 42, 32) dtype=float32>"
            ]
          },
          "metadata": {
            "tags": []
          },
          "execution_count": 11
        }
      ]
    },
    {
      "cell_type": "code",
      "metadata": {
        "id": "ezwcSJBFViGl",
        "colab_type": "code",
        "outputId": "ba6c5074-728e-4cb8-bfdb-35eb0e1d56da",
        "colab": {
          "base_uri": "https://localhost:8080/",
          "height": 92
        }
      },
      "source": [
        "with tf.train.MonitoredSession() as sess:\n",
        "  input_v = sess.run(inputs)  # Get some noise inputs out of TF\n",
        "  output_v = sess.run(filtered_image)  # Get our filtered image out (NOTE: not the *same* image as above)"
      ],
      "execution_count": 0,
      "outputs": [
        {
          "output_type": "stream",
          "text": [
            "INFO:tensorflow:Graph was finalized.\n",
            "INFO:tensorflow:Running local_init_op.\n",
            "INFO:tensorflow:Done running local_init_op.\n"
          ],
          "name": "stdout"
        }
      ]
    },
    {
      "cell_type": "code",
      "metadata": {
        "id": "abux9WapWBKh",
        "colab_type": "code",
        "outputId": "7d8b3678-b7a6-45d9-a50d-45d8387890fa",
        "colab": {
          "base_uri": "https://localhost:8080/",
          "height": 55
        }
      },
      "source": [
        "input_v.shape"
      ],
      "execution_count": 0,
      "outputs": [
        {
          "output_type": "execute_result",
          "data": {
            "text/plain": [
              "(1, 84, 84, 3)"
            ]
          },
          "metadata": {
            "tags": []
          },
          "execution_count": 13
        }
      ]
    },
    {
      "cell_type": "code",
      "metadata": {
        "id": "7dIVQEm8V6-t",
        "colab_type": "code",
        "outputId": "70b7c9fa-c067-42fd-87a2-954aca5ed7b1",
        "colab": {
          "base_uri": "https://localhost:8080/",
          "height": 405
        }
      },
      "source": [
        "plt.imshow(input_v.squeeze())"
      ],
      "execution_count": 0,
      "outputs": [
        {
          "output_type": "stream",
          "text": [
            "Clipping input data to the valid range for imshow with RGB data ([0..1] for floats or [0..255] for integers).\n"
          ],
          "name": "stderr"
        },
        {
          "output_type": "execute_result",
          "data": {
            "text/plain": [
              "<matplotlib.image.AxesImage at 0x7fb4763d8630>"
            ]
          },
          "metadata": {
            "tags": []
          },
          "execution_count": 14
        },
        {
          "output_type": "display_data",
          "data": {
            "image/png": "[encoded data removed]",
            "text/plain": [
              "<Figure size 576x396 with 1 Axes>"
            ]
          },
          "metadata": {
            "tags": []
          }
        }
      ]
    },
    {
      "cell_type": "code",
      "metadata": {
        "id": "BP2Zb-8IXQp4",
        "colab_type": "code",
        "outputId": "08c4a27b-9f8f-43e2-b41d-30a1e443568b",
        "colab": {
          "base_uri": "https://localhost:8080/",
          "height": 55
        }
      },
      "source": [
        "output_v.shape"
      ],
      "execution_count": 0,
      "outputs": [
        {
          "output_type": "execute_result",
          "data": {
            "text/plain": [
              "(1, 42, 42, 32)"
            ]
          },
          "metadata": {
            "tags": []
          },
          "execution_count": 15
        }
      ]
    },
    {
      "cell_type": "code",
      "metadata": {
        "id": "QCu6jYNiXJoU",
        "colab_type": "code",
        "outputId": "963a088b-1117-4c4f-b2f6-77258b98322a",
        "colab": {
          "base_uri": "https://localhost:8080/",
          "height": 404
        }
      },
      "source": [
        "plt.imshow(output_v.squeeze()[:, :, :3])"
      ],
      "execution_count": 0,
      "outputs": [
        {
          "output_type": "stream",
          "text": [
            "Clipping input data to the valid range for imshow with RGB data ([0..1] for floats or [0..255] for integers).\n"
          ],
          "name": "stderr"
        },
        {
          "output_type": "execute_result",
          "data": {
            "text/plain": [
              "<matplotlib.image.AxesImage at 0x7fb474373710>"
            ]
          },
          "metadata": {
            "tags": []
          },
          "execution_count": 16
        },
        {
          "output_type": "display_data",
          "data": {
            "image/png": "[encoded data removed]",
            "text/plain": [
              "<Figure size 576x396 with 1 Axes>"
            ]
          },
          "metadata": {
            "tags": []
          }
        }
      ]
    },
    {
      "cell_type": "markdown",
      "metadata": {
        "id": "Bd-Hu3Hr_wW9",
        "colab_type": "text"
      },
      "source": [
        "## Make an MLP Encoder/Decoder\n",
        "\n"
      ]
    },
    {
      "cell_type": "code",
      "metadata": {
        "id": "wAWX_eKccAyc",
        "colab_type": "code",
        "colab": {}
      },
      "source": [
        "(train_images, _), (test_images, _) = tf.keras.datasets.fashion_mnist.load_data()"
      ],
      "execution_count": 0,
      "outputs": []
    },
    {
      "cell_type": "code",
      "metadata": {
        "id": "-gXEQUI5A6Vi",
        "colab_type": "code",
        "colab": {}
      },
      "source": [
        "train_images = train_images.reshape(train_images.shape[0], 28, 28, 1).astype('float32')\n",
        "test_images = test_images.reshape(test_images.shape[0], 28, 28, 1).astype('float32')\n",
        "\n",
        "# Normalizing the images to the range of [0., 1.]\n",
        "train_images /= 255.\n",
        "test_images /= 255.\n",
        "\n",
        "# Binarization\n",
        "train_images[train_images >= .5] = 1.\n",
        "train_images[train_images < .5] = 0.\n",
        "test_images[test_images >= .5] = 1.\n",
        "test_images[test_images < .5] = 0."
      ],
      "execution_count": 0,
      "outputs": []
    },
    {
      "cell_type": "code",
      "metadata": {
        "id": "rsCm0NWOAAv9",
        "colab_type": "code",
        "cellView": "code",
        "colab": {}
      },
      "source": [
        "#@title EncoderMLP\n",
        "\n",
        "class EncoderGaussMLP(snt.AbstractModule):\n",
        "  \n",
        "  def __init__(self):\n",
        "    super().__init__(name='encoder')\n",
        "  \n",
        "    self._mlp = snt.nets.MLP(output_sizes=[500, 100], \n",
        "                             activation=tf.nn.tanh,\n",
        "                             activate_final=True)\n",
        "\n",
        "    self._mu_layer = snt.Linear(output_size=N_LATENT)\n",
        "\n",
        "    self._log_var_layer = snt.Linear(output_size=N_LATENT)\n",
        "  \n",
        "  def _build(self, input_images: tf.Tensor):\n",
        "    flat_image = snt.BatchFlatten()(input_images)\n",
        "    \n",
        "    encoding = self._mlp(flat_image)\n",
        "    \n",
        "    mu = self._mu_layer(encoding)\n",
        "    \n",
        "    log_variance = self._log_var_layer(encoding)\n",
        "    \n",
        "    return latent_mu, latent_log_var\n",
        "  \n"
      ],
      "execution_count": 0,
      "outputs": []
    },
    {
      "cell_type": "code",
      "metadata": {
        "id": "etXyUezxAgiP",
        "colab_type": "code",
        "cellView": "code",
        "colab": {}
      },
      "source": [
        "#@title DecoderBernMLP\n",
        "\n",
        "class DecoderBernMLP(snt.AbstractModule):\n",
        "  \n",
        "  def __init__(self):\n",
        "    super().__init__(name='decoder')\n",
        "\n",
        "    self._mlp = snt.nets.MLP(output_sizes=[100, 500], \n",
        "                             activation=tf.nn.tanh,\n",
        "                             activate_final=True)\n",
        "    \n",
        "    self._theta_layer = snt.Linear(output_size=N_OBSERVED)\n",
        "        \n",
        "  def _build(self, latent: tf.Tensor, apply_sigmoid=False):\n",
        "    \n",
        "    decoding = self._mlp(latent)\n",
        "        \n",
        "    logits = self._theta_layer(decoding)\n",
        "    \n",
        "    if apply_sigmoid == True:\n",
        "      return tf.sigmoid(logits)\n",
        "    \n",
        "    return logits"
      ],
      "execution_count": 0,
      "outputs": []
    },
    {
      "cell_type": "code",
      "metadata": {
        "id": "zm_AevofBr8Z",
        "colab_type": "code",
        "colab": {}
      },
      "source": [
        "class VAE(snt.AbstractModule):\n",
        "  def __init__(self, \n",
        "               encoder: EncoderMLP, \n",
        "               decoder: DecoderMLP):\n",
        "    super().__init__(name='vae')\n",
        "    \n",
        "    self._encoder = encoder\n",
        "    self._decoder = decoder\n",
        "  \n",
        "  def _build(self, input_images:tf.Tensor):  \n",
        "    \n",
        "    latent_mu, latent_log_var = self._encoder(input_images)\n",
        "    latent_sample = self._sample_latent_z(latent_mu, latent_log_var)\n",
        "    logits = self._decoder(latent_sample)\n",
        "    \n",
        "    return logits, latent_mu, latent_log_var\n",
        "  \n",
        "  def _sample_latent_z(self, mean, logvar, noise=None): # Produce a sample in the latent space\n",
        "    if noise == None:\n",
        "      noise = tf.random.normal(shape=mean.shape)\n",
        "    return noise * tf.exp(logvar * .5) + mean\n",
        "    \n",
        "  def generate_sample_x(self, noise = None): # Produce a sample in the input space\n",
        "    self._sample_latent_z(\n",
        "    return self._decoder.() \n",
        "  \n",
        "  "
      ],
      "execution_count": 0,
      "outputs": []
    },
    {
      "cell_type": "code",
      "metadata": {
        "id": "1AD2dPlRounh",
        "colab_type": "code",
        "colab": {}
      },
      "source": [
        "N_TRAINING_STEPS = 6000\n",
        "N_LATENT = 2\n",
        "N_OBSERVED = 784\n",
        "BATCH_SIZE = 128\n",
        "N_TRAINING_SAMPLES = train_images.shape[0]"
      ],
      "execution_count": 0,
      "outputs": []
    },
    {
      "cell_type": "code",
      "metadata": {
        "id": "EKElexg1gS5C",
        "colab_type": "code",
        "cellView": "code",
        "colab": {}
      },
      "source": [
        "#@title Build the Graph\n",
        "\n",
        "encoder = EncoderMLP()\n",
        "decoder = DecoderBernMLP()\n",
        "\n",
        "vae = VAE(encoder, decoder)\n",
        "\n",
        "input_batch = tf.placeholder(tf.float32, shape=(BATCH_SIZE, 28, 28))\n",
        "\n",
        "theta, latent_mu, latent_log_var = vae(input_batch)\n",
        "\n"
      ],
      "execution_count": 0,
      "outputs": []
    },
    {
      "cell_type": "code",
      "metadata": {
        "id": "Iw54FryvjjA0",
        "colab_type": "code",
        "colab": {}
      },
      "source": [
        ""
      ],
      "execution_count": 0,
      "outputs": []
    },
    {
      "cell_type": "code",
      "metadata": {
        "id": "K7I9HZzWNops",
        "colab_type": "code",
        "cellView": "code",
        "colab": {}
      },
      "source": [
        "#@title Build the Graph\n",
        "\n",
        "tf.reset_default_graph()\n",
        "\n",
        "input_batch = tf.placeholder(tf.float32, shape=(BATCH_SIZE, 28, 28))\n",
        "    \n",
        "encoder = EncoderMLP()\n",
        "decoder = DecoderMLP()\n",
        "\n",
        "\n",
        "# Encode the inputs into the latent space\n",
        "latent_mu, latent_log_var, flat_image, encoding = encoder(input_batch)\n",
        "\n",
        "# Sample from the posterior over the latents\n",
        "noise = tf.random_normal(shape=[N_LATENT])\n",
        "\n",
        "latent = latent_mu + noise * latent_log_var\n",
        "\n",
        "test_mu = decoder(latent_mu)\n",
        "\n",
        "# Decode the sample latents into the input space\n",
        "dec_mu = decoder(latent)\n",
        "\n",
        "# Compute the Reconstruction Loss term\n",
        "\n",
        "flat_input = snt.BatchFlatten()(input_batch)  # [B, HW]\n",
        "\n",
        "# recon loss for binarized data is just binary cross-entropy\n",
        "recon_loss = - (flat_input * tf.log(dec_mu + 1e-15) \n",
        "                + (1 - flat_input) * tf.log(1-dec_mu + 1e-15))  # [B, HW]\n",
        "\n",
        "recon_loss = tf.reduce_sum(recon_loss, axis=-1)  # [B]  (sum -log likelihoods)\n",
        "recon_loss = tf.reduce_mean(recon_loss)  # []  (reduce mean over batch)\n",
        "\n",
        "# Compute the KL Loss term\n",
        "latent_variance = tf.exp(latent_log_var)  # [B, L]\n",
        "\n",
        "kl_loss = 0.5 * (latent_variance + latent_mu**2 - latent_log_var - 1)  # [B, L]\n",
        "kl_loss = tf.reduce_sum(kl_loss, axis=-1)  # [B]\n",
        "kl_loss = tf.reduce_mean(kl_loss)  # []\n",
        "\n",
        "# Combine the loss terms\n",
        "loss = recon_loss + kl_loss  # []\n",
        "\n",
        "# Pick an optimizer and add the minimizer op to the graph\n",
        "optimizer = tf.train.AdamOptimizer(learning_rate=1e-4)\n",
        "sgd_op = optimizer.minimize(loss)"
      ],
      "execution_count": 0,
      "outputs": []
    },
    {
      "cell_type": "code",
      "metadata": {
        "id": "ULbF0i0HYvw5",
        "colab_type": "code",
        "outputId": "b1d70e1e-f630-4659-881e-76cbd7da2bcc",
        "colab": {
          "base_uri": "https://localhost:8080/",
          "height": 926
        }
      },
      "source": [
        "# Run the Graph\n",
        "\n",
        "fetches = {\n",
        "           'sgd_op': sgd_op,\n",
        "           'loss': loss,\n",
        "            'dec_mu': tf.reduce_sum(dec_mu),\n",
        "           #'latent': latent,\n",
        "#            'dec_mu': tf.reduce_mean(dec_mu),\n",
        "#            'test_mu': test_mu,\n",
        "#            'recon_a': tf.reduce_sum(tf.log(dec_var)),\n",
        "#            'recon_b': tf.reduce_sum(sq_error / dec_var),\n",
        "           'recon_loss': recon_loss,\n",
        "           'kl_loss': kl_loss,\n",
        "    'test_mu': test_mu,\n",
        "    'input_batch': input_batch,\n",
        "          }\n",
        "sess = tf.Session()\n",
        "sess.run(tf.global_variables_initializer())\n",
        "for step in range(N_TRAINING_STEPS):\n",
        "\n",
        "  batch_indexes = np.random.choice(N_TRAINING_SAMPLES, BATCH_SIZE)\n",
        "  mini_batch = train_images[batch_indexes,:,:].astype(np.float32).squeeze(axis=-1)\n",
        "  np_outputs = sess.run(fetches, feed_dict={input_batch: mini_batch})\n",
        "\n",
        "  if step % (N_TRAINING_STEPS // 50) == 0:\n",
        "    truth = np_outputs.pop('input_batch')\n",
        "    reconstructed = np_outputs.pop('test_mu')\n",
        "    print(np_outputs)\n",
        "#       print('Step: {}, Loss: {}, Recon. Loss: {}, kl_loss: {}'.format(step,\n",
        "#           np_outputs['loss'], np_outputs['recon_loss'], np_outputs['kl_loss']))\n"
      ],
      "execution_count": 0,
      "outputs": [
        {
          "output_type": "stream",
          "text": [
            "{'sgd_op': None, 'loss': 549.42267, 'dec_mu': 50126.703, 'recon_loss': 549.25494, 'kl_loss': 0.16769901}\n",
            "{'sgd_op': None, 'loss': 333.0927, 'dec_mu': 33150.875, 'recon_loss': 329.27692, 'kl_loss': 3.815787}\n",
            "{'sgd_op': None, 'loss': 289.15002, 'dec_mu': 33925.945, 'recon_loss': 286.43164, 'kl_loss': 2.7183986}\n",
            "{'sgd_op': None, 'loss': 284.25897, 'dec_mu': 33138.355, 'recon_loss': 282.51556, 'kl_loss': 1.7434018}\n",
            "{'sgd_op': None, 'loss': 264.55307, 'dec_mu': 30248.844, 'recon_loss': 262.60864, 'kl_loss': 1.9444281}\n",
            "{'sgd_op': None, 'loss': 265.0794, 'dec_mu': 31521.232, 'recon_loss': 263.21985, 'kl_loss': 1.8595575}\n",
            "{'sgd_op': None, 'loss': 240.96706, 'dec_mu': 29871.453, 'recon_loss': 238.70335, 'kl_loss': 2.2636983}\n",
            "{'sgd_op': None, 'loss': 235.00769, 'dec_mu': 32276.723, 'recon_loss': 232.49045, 'kl_loss': 2.5172422}\n",
            "{'sgd_op': None, 'loss': 234.04305, 'dec_mu': 32867.707, 'recon_loss': 231.61987, 'kl_loss': 2.4231744}\n",
            "{'sgd_op': None, 'loss': 242.2762, 'dec_mu': 32558.883, 'recon_loss': 240.40015, 'kl_loss': 1.8760478}\n",
            "{'sgd_op': None, 'loss': 222.79446, 'dec_mu': 28816.28, 'recon_loss': 220.7079, 'kl_loss': 2.086567}\n",
            "{'sgd_op': None, 'loss': 219.81287, 'dec_mu': 32902.78, 'recon_loss': 217.65662, 'kl_loss': 2.1562428}\n",
            "{'sgd_op': None, 'loss': 227.17154, 'dec_mu': 28339.984, 'recon_loss': 225.18005, 'kl_loss': 1.9914844}\n",
            "{'sgd_op': None, 'loss': 227.86751, 'dec_mu': 31580.078, 'recon_loss': 226.01685, 'kl_loss': 1.8506553}\n",
            "{'sgd_op': None, 'loss': 230.2058, 'dec_mu': 30690.0, 'recon_loss': 228.17793, 'kl_loss': 2.027856}\n",
            "{'sgd_op': None, 'loss': 230.94473, 'dec_mu': 29945.156, 'recon_loss': 229.1618, 'kl_loss': 1.7829319}\n",
            "{'sgd_op': None, 'loss': 223.70378, 'dec_mu': 32700.918, 'recon_loss': 221.81146, 'kl_loss': 1.8923175}\n",
            "{'sgd_op': None, 'loss': 211.13516, 'dec_mu': 32806.14, 'recon_loss': 208.89474, 'kl_loss': 2.240419}\n",
            "{'sgd_op': None, 'loss': 229.03938, 'dec_mu': 31335.477, 'recon_loss': 227.13791, 'kl_loss': 1.9014809}\n",
            "{'sgd_op': None, 'loss': 222.9147, 'dec_mu': 31953.322, 'recon_loss': 221.23845, 'kl_loss': 1.6762613}\n",
            "{'sgd_op': None, 'loss': 218.95581, 'dec_mu': 30629.291, 'recon_loss': 217.18343, 'kl_loss': 1.772378}\n",
            "{'sgd_op': None, 'loss': 219.27379, 'dec_mu': 34067.496, 'recon_loss': 217.57861, 'kl_loss': 1.6951692}\n",
            "{'sgd_op': None, 'loss': 208.4253, 'dec_mu': 30412.121, 'recon_loss': 206.54489, 'kl_loss': 1.8804083}\n",
            "{'sgd_op': None, 'loss': 225.26321, 'dec_mu': 32595.768, 'recon_loss': 223.13705, 'kl_loss': 2.1261537}\n",
            "{'sgd_op': None, 'loss': 215.80708, 'dec_mu': 30217.27, 'recon_loss': 213.67236, 'kl_loss': 2.134713}\n",
            "{'sgd_op': None, 'loss': 211.49223, 'dec_mu': 29598.658, 'recon_loss': 209.54492, 'kl_loss': 1.9473169}\n",
            "{'sgd_op': None, 'loss': 215.8091, 'dec_mu': 37178.883, 'recon_loss': 213.90436, 'kl_loss': 1.9047405}\n",
            "{'sgd_op': None, 'loss': 222.65442, 'dec_mu': 35385.805, 'recon_loss': 221.06572, 'kl_loss': 1.5886921}\n",
            "{'sgd_op': None, 'loss': 197.66559, 'dec_mu': 33478.56, 'recon_loss': 195.75134, 'kl_loss': 1.9142451}\n",
            "{'sgd_op': None, 'loss': 213.3292, 'dec_mu': 32644.613, 'recon_loss': 211.48236, 'kl_loss': 1.8468248}\n",
            "{'sgd_op': None, 'loss': 213.58461, 'dec_mu': 33373.133, 'recon_loss': 211.47134, 'kl_loss': 2.1132648}\n",
            "{'sgd_op': None, 'loss': 210.60124, 'dec_mu': 30992.484, 'recon_loss': 208.49377, 'kl_loss': 2.1074705}\n",
            "{'sgd_op': None, 'loss': 211.98373, 'dec_mu': 33433.734, 'recon_loss': 210.25818, 'kl_loss': 1.7255592}\n",
            "{'sgd_op': None, 'loss': 192.5676, 'dec_mu': 31625.492, 'recon_loss': 190.74054, 'kl_loss': 1.8270595}\n",
            "{'sgd_op': None, 'loss': 202.49765, 'dec_mu': 31374.826, 'recon_loss': 200.35825, 'kl_loss': 2.1394038}\n",
            "{'sgd_op': None, 'loss': 210.69203, 'dec_mu': 32662.719, 'recon_loss': 208.60739, 'kl_loss': 2.0846438}\n",
            "{'sgd_op': None, 'loss': 218.01297, 'dec_mu': 33303.883, 'recon_loss': 216.29623, 'kl_loss': 1.7167431}\n",
            "{'sgd_op': None, 'loss': 203.24138, 'dec_mu': 35215.22, 'recon_loss': 201.2674, 'kl_loss': 1.9739863}\n",
            "{'sgd_op': None, 'loss': 197.09256, 'dec_mu': 32148.723, 'recon_loss': 194.87698, 'kl_loss': 2.2155735}\n",
            "{'sgd_op': None, 'loss': 216.86229, 'dec_mu': 31608.023, 'recon_loss': 215.17874, 'kl_loss': 1.6835525}\n",
            "{'sgd_op': None, 'loss': 203.83833, 'dec_mu': 30733.074, 'recon_loss': 201.71304, 'kl_loss': 2.1252851}\n",
            "{'sgd_op': None, 'loss': 194.14667, 'dec_mu': 30451.273, 'recon_loss': 192.20317, 'kl_loss': 1.9434932}\n",
            "{'sgd_op': None, 'loss': 209.07292, 'dec_mu': 31390.52, 'recon_loss': 206.97803, 'kl_loss': 2.0948977}\n",
            "{'sgd_op': None, 'loss': 214.05865, 'dec_mu': 30183.816, 'recon_loss': 212.49359, 'kl_loss': 1.5650635}\n",
            "{'sgd_op': None, 'loss': 198.7952, 'dec_mu': 32008.646, 'recon_loss': 196.93306, 'kl_loss': 1.862142}\n",
            "{'sgd_op': None, 'loss': 197.34239, 'dec_mu': 31366.484, 'recon_loss': 195.52551, 'kl_loss': 1.8168778}\n",
            "{'sgd_op': None, 'loss': 192.89459, 'dec_mu': 29936.227, 'recon_loss': 190.95142, 'kl_loss': 1.9431707}\n",
            "{'sgd_op': None, 'loss': 186.05423, 'dec_mu': 32265.684, 'recon_loss': 184.08258, 'kl_loss': 1.9716443}\n",
            "{'sgd_op': None, 'loss': 190.8939, 'dec_mu': 30730.676, 'recon_loss': 189.07895, 'kl_loss': 1.8149524}\n",
            "{'sgd_op': None, 'loss': 188.80919, 'dec_mu': 32386.422, 'recon_loss': 186.61432, 'kl_loss': 2.1948705}\n"
          ],
          "name": "stdout"
        }
      ]
    },
    {
      "cell_type": "code",
      "metadata": {
        "id": "6hU-NtlEuwDS",
        "colab_type": "code",
        "colab": {}
      },
      "source": [
        "x = np.linspace(-3, 3, num=5)\n",
        "y = np.linspace(-3, 3, num=5)"
      ],
      "execution_count": 0,
      "outputs": []
    },
    {
      "cell_type": "code",
      "metadata": {
        "id": "ugN6c0T9wuvd",
        "colab_type": "code",
        "outputId": "d5fbf5ce-0a5a-4a9d-e3e3-bcc16fd176a3",
        "colab": {
          "base_uri": "https://localhost:8080/",
          "height": 472
        }
      },
      "source": [
        " np.sort(np.random.randn(25, 2), axis=0).astype(np.float32)"
      ],
      "execution_count": 0,
      "outputs": [
        {
          "output_type": "execute_result",
          "data": {
            "text/plain": [
              "array([[-1.6110584 , -2.3263366 ],\n",
              "       [-1.4989392 , -1.9535222 ],\n",
              "       [-1.416607  , -1.9180276 ],\n",
              "       [-1.2709504 , -1.4216558 ],\n",
              "       [-1.1695166 , -1.3741621 ],\n",
              "       [-0.94293964, -1.2163731 ],\n",
              "       [-0.79104453, -1.1193346 ],\n",
              "       [-0.68776935, -0.9141928 ],\n",
              "       [-0.4738726 ,  0.06631131],\n",
              "       [-0.45178416,  0.11228297],\n",
              "       [-0.4474064 ,  0.11814801],\n",
              "       [-0.4464775 ,  0.15939535],\n",
              "       [-0.37798703,  0.27463874],\n",
              "       [-0.18666294,  0.34359834],\n",
              "       [ 0.1594285 ,  0.5146453 ],\n",
              "       [ 0.22617787,  0.52469444],\n",
              "       [ 0.22908174,  0.617307  ],\n",
              "       [ 0.23722091,  0.65636265],\n",
              "       [ 0.3232248 ,  0.8523616 ],\n",
              "       [ 0.33665165,  0.9091204 ],\n",
              "       [ 0.44892156,  0.91362834],\n",
              "       [ 1.3943167 ,  0.96468204],\n",
              "       [ 1.5853802 ,  1.435113  ],\n",
              "       [ 1.712998  ,  1.5947464 ],\n",
              "       [ 1.9626383 ,  1.7867622 ]], dtype=float32)"
            ]
          },
          "metadata": {
            "tags": []
          },
          "execution_count": 185
        }
      ]
    },
    {
      "cell_type": "code",
      "metadata": {
        "id": "jBGh2xCevWeR",
        "colab_type": "code",
        "colab": {}
      },
      "source": [
        "budge_latent_traversal = 3 * np.sort(np.random.randn(25, 2), axis=0).astype(np.float32)\n",
        "budge_latent_traversal[:,1] = np.zeros(25)\n",
        "budge_latent_traversal = tf.convert_to_tensor(budge_latent_traversal)"
      ],
      "execution_count": 0,
      "outputs": []
    },
    {
      "cell_type": "code",
      "metadata": {
        "id": "GmPiN84Muk-8",
        "colab_type": "code",
        "colab": {}
      },
      "source": [
        "traversals = decoder(budge_latent_traversal)"
      ],
      "execution_count": 0,
      "outputs": []
    },
    {
      "cell_type": "code",
      "metadata": {
        "id": "Ff3vRwH_wLVb",
        "colab_type": "code",
        "colab": {}
      },
      "source": [
        "sik1 = sess.run(traversals)"
      ],
      "execution_count": 0,
      "outputs": []
    },
    {
      "cell_type": "code",
      "metadata": {
        "id": "y3P5U-cDwM-Q",
        "colab_type": "code",
        "outputId": "ffcb55da-9277-4402-83e4-21120c4f37ff",
        "colab": {
          "base_uri": "https://localhost:8080/",
          "height": 365
        }
      },
      "source": [
        "plt.imshow(np.reshape(sik1[13], (28, 28)))"
      ],
      "execution_count": 0,
      "outputs": [
        {
          "output_type": "execute_result",
          "data": {
            "text/plain": [
              "<matplotlib.image.AxesImage at 0x7f1baebb7198>"
            ]
          },
          "metadata": {
            "tags": []
          },
          "execution_count": 195
        },
        {
          "output_type": "display_data",
          "data": {
            "image/png": "[encoded data removed]",
            "text/plain": [
              "<Figure size 576x396 with 1 Axes>"
            ]
          },
          "metadata": {
            "tags": []
          }
        }
      ]
    },
    {
      "cell_type": "code",
      "metadata": {
        "id": "ErrG-AjMvEle",
        "colab_type": "code",
        "outputId": "e1785a32-fc76-4f39-86c0-36782d8d7b6b",
        "colab": {
          "base_uri": "https://localhost:8080/",
          "height": 35
        }
      },
      "source": [
        "yy.shape"
      ],
      "execution_count": 0,
      "outputs": [
        {
          "output_type": "execute_result",
          "data": {
            "text/plain": [
              "(50, 50)"
            ]
          },
          "metadata": {
            "tags": []
          },
          "execution_count": 150
        }
      ]
    },
    {
      "cell_type": "code",
      "metadata": {
        "id": "yrniya0krc1v",
        "colab_type": "code",
        "outputId": "e9b1e5a4-310b-4109-d103-4cb4cb2cc540",
        "colab": {
          "base_uri": "https://localhost:8080/",
          "height": 365
        }
      },
      "source": [
        "plt.imshow(truth[6])"
      ],
      "execution_count": 0,
      "outputs": [
        {
          "output_type": "execute_result",
          "data": {
            "text/plain": [
              "<matplotlib.image.AxesImage at 0x7f1bc3c464a8>"
            ]
          },
          "metadata": {
            "tags": []
          },
          "execution_count": 142
        },
        {
          "output_type": "display_data",
          "data": {
            "image/png": "[encoded data removed]",
            "text/plain": [
              "<Figure size 576x396 with 1 Axes>"
            ]
          },
          "metadata": {
            "tags": []
          }
        }
      ]
    },
    {
      "cell_type": "code",
      "metadata": {
        "id": "qUR03xUVreqL",
        "colab_type": "code",
        "outputId": "89f10f5a-a252-47a9-fa68-5b75188e5d22",
        "colab": {
          "base_uri": "https://localhost:8080/",
          "height": 365
        }
      },
      "source": [
        "plt.imshow(np.reshape(reconstructed[6], (28, 28)))"
      ],
      "execution_count": 0,
      "outputs": [
        {
          "output_type": "execute_result",
          "data": {
            "text/plain": [
              "<matplotlib.image.AxesImage at 0x7f1bc3edb978>"
            ]
          },
          "metadata": {
            "tags": []
          },
          "execution_count": 143
        },
        {
          "output_type": "display_data",
          "data": {
            "image/png": "[encoded data removed]",
            "text/plain": [
              "<Figure size 576x396 with 1 Axes>"
            ]
          },
          "metadata": {
            "tags": []
          }
        }
      ]
    },
    {
      "cell_type": "code",
      "metadata": {
        "id": "RJ4kOSKXOU1d",
        "colab_type": "code",
        "cellView": "code",
        "colab": {}
      },
      "source": [
        "#@title Test the reconstructions\n",
        "  \n",
        "batch_indices = np.random.choice(N_TRAINING_SAMPLES, BATCH_SIZE)\n",
        "training_samples = train_images[batch_indices,:,:]\n",
        "plt.imshow(training_samples[1,:,:])"
      ],
      "execution_count": 0,
      "outputs": []
    },
    {
      "cell_type": "code",
      "metadata": {
        "id": "feE4ejQzayYp",
        "colab_type": "code",
        "outputId": "0b2cc5a3-e9f7-41c4-fc14-0832a1a2730b",
        "colab": {
          "base_uri": "https://localhost:8080/",
          "height": 402
        }
      },
      "source": [
        "with tf.train.MonitoredSession() as sess:\n",
        "\n",
        "  reconst_vectors = sess.run(test_mu, feed_dict={input_batch: training_samples})\n",
        "\n",
        "  reconst_image = np.reshape(reconst_vectors[1,:], (28,28))\n",
        "  plt.imshow(reconst_image)"
      ],
      "execution_count": 0,
      "outputs": [
        {
          "output_type": "stream",
          "text": [
            "INFO:tensorflow:Graph was finalized.\n",
            "INFO:tensorflow:Running local_init_op.\n",
            "INFO:tensorflow:Done running local_init_op.\n"
          ],
          "name": "stdout"
        },
        {
          "output_type": "display_data",
          "data": {
            "image/png": "[encoded data removed]",
            "text/plain": [
              "<Figure size 576x396 with 1 Axes>"
            ]
          },
          "metadata": {
            "tags": []
          }
        }
      ]
    },
    {
      "cell_type": "code",
      "metadata": {
        "id": "rsZpwWxeynEl",
        "colab_type": "code",
        "cellView": "form",
        "colab": {}
      },
      "source": [
        "#@title Ignore this\n",
        "\n",
        "def log_normal_pdf(sample, mean, logvar, raxis=1):\n",
        "  log_2pi = N_OBSERVED * tf.log(2. * np.pi)\n",
        "  return tf.reduce_sum(\n",
        "      -.5 * ((sample - mean)**2. * tf.exp(-logvar) + logvar + log2pi),\n",
        "      axis=raxis)\n",
        "\n",
        "def compute_loss(sample, mean, logvar\n",
        "  "
      ],
      "execution_count": 0,
      "outputs": []
    },
    {
      "cell_type": "markdown",
      "metadata": {
        "id": "-uDdtoqWa4kd",
        "colab_type": "text"
      },
      "source": [
        "## Making a convnet encoder"
      ]
    },
    {
      "cell_type": "code",
      "metadata": {
        "id": "Y5qMUqGPkhnc",
        "colab_type": "code",
        "colab": {}
      },
      "source": [
        "class Encoder(snt.AbstractModule):\n",
        "  \n",
        "  def __init__(self):\n",
        "    # TODO(jaslanides) lol this is bullshit ay\n",
        "    super().__init__(name='encoder')\n",
        "    \n",
        "    self._conv_net = snt.nets.ConvNet2D(output_channels=[32, 16, 8], \n",
        "                                        kernel_shapes=[5, 3, 3],\n",
        "                                        strides=[2, 2, 1], \n",
        "                                        paddings=['SAME'])\n",
        "    \n",
        "    self._mlp = snt.nets.MLP(output_sizes=[50, 50])\n",
        "    \n",
        "    self._mu_layer = snt.Linear(output_size=N_LATENT)\n",
        "    \n",
        "    self._sigma_layer = snt.Linear(output_size=N_LATENT)\n",
        "    \n",
        "  def _build(self, input_image: tf.Tensor):  # Think of this as __call__ :)\n",
        "    filtered_image = self._conv_net(input_image)\n",
        "    flat_image = snt.BatchFlatten()(filtered_image)\n",
        "    \n",
        "    embedding = self._mlp(flat_image)\n",
        "    \n",
        "    mu = self._mu_layer(embedding)  # [N_LATENT]\n",
        "    sigma = self._sigma_layer(embedding)\n",
        "    \n",
        "    return mu, sigma"
      ],
      "execution_count": 0,
      "outputs": []
    },
    {
      "cell_type": "code",
      "metadata": {
        "id": "JTkQQJtml2Qr",
        "colab_type": "code",
        "colab": {}
      },
      "source": [
        "class Decoder(snt.AbstractModule):\n",
        "  \n",
        "  def __init__(self):\n",
        "    super().__init__(name='decoder')\n",
        "\n",
        "    self._deconv_net = snt.nets.ConvNet2D(output_channels=[32, 16, 8], \n",
        "                                        kernel_shapes=[5, 3, 3],\n",
        "                                        strides=[2, 2, 1], \n",
        "                                        paddings=['SAME']).transpose()    \n",
        "   \n",
        "    self._mlp = snt.nets.MLP(output_sizes=[50, 3528])\n",
        "    \n",
        "    \n",
        "  def _build(self, latent: tf.Tensor):\n",
        "    embedding = self._mlp(latent)\n",
        "    \n",
        "    filtered_image = tf.reshape(embedding, [1,21,21,8])\n",
        "    \n",
        "    output = self._deconv_net(filtered_image)\n",
        "    \n",
        "    return outputlatent_variance"
      ],
      "execution_count": 0,
      "outputs": []
    },
    {
      "cell_type": "code",
      "metadata": {
        "id": "SC7BV12XeUM-",
        "colab_type": "code",
        "outputId": "eddffee5-6362-4463-b438-058d518ef382",
        "colab": {
          "base_uri": "https://localhost:8080/",
          "height": 708
        }
      },
      "source": [
        "tf.global_variables()"
      ],
      "execution_count": 0,
      "outputs": [
        {
          "output_type": "execute_result",
          "data": {
            "text/plain": [
              "[<tf.Variable 'mlp/linear_0/w:0' shape=(784, 50) dtype=float32_ref>,\n",
              " <tf.Variable 'mlp/linear_0/b:0' shape=(50,) dtype=float32_ref>,\n",
              " <tf.Variable 'linear/w:0' shape=(50, 16) dtype=float32_ref>,\n",
              " <tf.Variable 'linear/b:0' shape=(16,) dtype=float32_ref>,\n",
              " <tf.Variable 'linear_1/w:0' shape=(50, 16) dtype=float32_ref>,\n",
              " <tf.Variable 'linear_1/b:0' shape=(16,) dtype=float32_ref>,\n",
              " <tf.Variable 'mlp_1/linear_0/w:0' shape=(16, 50) dtype=float32_ref>,\n",
              " <tf.Variable 'mlp_1/linear_0/b:0' shape=(50,) dtype=float32_ref>,\n",
              " <tf.Variable 'linear_2/w:0' shape=(50, 784) dtype=float32_ref>,\n",
              " <tf.Variable 'linear_2/b:0' shape=(784,) dtype=float32_ref>,\n",
              " <tf.Variable 'linear_3/w:0' shape=(50, 784) dtype=float32_ref>,\n",
              " <tf.Variable 'linear_3/b:0' shape=(784,) dtype=float32_ref>,\n",
              " <tf.Variable 'beta1_power:0' shape=() dtype=float32_ref>,\n",
              " <tf.Variable 'beta2_power:0' shape=() dtype=float32_ref>,\n",
              " <tf.Variable 'mlp/linear_0/w/Adam:0' shape=(784, 50) dtype=float32_ref>,\n",
              " <tf.Variable 'mlp/linear_0/w/Adam_1:0' shape=(784, 50) dtype=float32_ref>,\n",
              " <tf.Variable 'mlp/linear_0/b/Adam:0' shape=(50,) dtype=float32_ref>,\n",
              " <tf.Variable 'mlp/linear_0/b/Adam_1:0' shape=(50,) dtype=float32_ref>,\n",
              " <tf.Variable 'linear/w/Adam:0' shape=(50, 16) dtype=float32_ref>,\n",
              " <tf.Variable 'linear/w/Adam_1:0' shape=(50, 16) dtype=float32_ref>,\n",
              " <tf.Variable 'linear/b/Adam:0' shape=(16,) dtype=float32_ref>,\n",
              " <tf.Variable 'linear/b/Adam_1:0' shape=(16,) dtype=float32_ref>,\n",
              " <tf.Variable 'linear_1/w/Adam:0' shape=(50, 16) dtype=float32_ref>,\n",
              " <tf.Variable 'linear_1/w/Adam_1:0' shape=(50, 16) dtype=float32_ref>,\n",
              " <tf.Variable 'linear_1/b/Adam:0' shape=(16,) dtype=float32_ref>,\n",
              " <tf.Variable 'linear_1/b/Adam_1:0' shape=(16,) dtype=float32_ref>,\n",
              " <tf.Variable 'mlp_1/linear_0/w/Adam:0' shape=(16, 50) dtype=float32_ref>,\n",
              " <tf.Variable 'mlp_1/linear_0/w/Adam_1:0' shape=(16, 50) dtype=float32_ref>,\n",
              " <tf.Variable 'mlp_1/linear_0/b/Adam:0' shape=(50,) dtype=float32_ref>,\n",
              " <tf.Variable 'mlp_1/linear_0/b/Adam_1:0' shape=(50,) dtype=float32_ref>,\n",
              " <tf.Variable 'linear_2/w/Adam:0' shape=(50, 784) dtype=float32_ref>,\n",
              " <tf.Variable 'linear_2/w/Adam_1:0' shape=(50, 784) dtype=float32_ref>,\n",
              " <tf.Variable 'linear_2/b/Adam:0' shape=(784,) dtype=float32_ref>,\n",
              " <tf.Variable 'linear_2/b/Adam_1:0' shape=(784,) dtype=float32_ref>,\n",
              " <tf.Variable 'linear_3/w/Adam:0' shape=(50, 784) dtype=float32_ref>,\n",
              " <tf.Variable 'linear_3/w/Adam_1:0' shape=(50, 784) dtype=float32_ref>,\n",
              " <tf.Variable 'linear_3/b/Adam:0' shape=(784,) dtype=float32_ref>,\n",
              " <tf.Variable 'linear_3/b/Adam_1:0' shape=(784,) dtype=float32_ref>]"
            ]
          },
          "metadata": {
            "tags": []
          },
          "execution_count": 26
        }
      ]
    },
    {
      "cell_type": "code",
      "metadata": {
        "id": "Dz6grYm1fYWI",
        "colab_type": "code",
        "colab": {}
      },
      "source": [
        "tf.reset_default_graph()"
      ],
      "execution_count": 0,
      "outputs": []
    },
    {
      "cell_type": "code",
      "metadata": {
        "id": "6ynfhMhhizIR",
        "colab_type": "code",
        "colab": {}
      },
      "source": [
        "tf.reset_default_graph()\n",
        "\n",
        "inputs = tf.random_normal(shape=(1, 84, 84, 3))  # [N, H, W, C]\n",
        "\n",
        "encoder = Encoder()\n",
        "decoder = Decoder()\n",
        "\n",
        "latent_mu, latent_sigma = encoder(inputs)\n",
        "\n",
        "noise = tf.random_normal(shape=[N_LATENT])\n",
        "\n",
        "latent = latent_mu + noise * latent_sigma  # sik1\n",
        "\n",
        "output = decoder(latent)\n",
        "\n",
        "reconstruction_loss = tf.square(inputs - ae_output)\n",
        "\n",
        "# TODO(jarryd): Figrue out the closed form\n",
        "\n",
        "kl_loss = 0.5 * (latent_sigma^2 + latent_mu^2 - tf.log(latent_sigma^2) - 1)\n",
        "\n",
        "loss = reconstruction_loss + kl_loss  # + for sure\n",
        "\n",
        "\n",
        "optimizer = tf.train.AdamOptimizer(learning_rate=1e-4)\n",
        "\n",
        "sgd_op = optimizer.minimize(loss)\n",
        "\n",
        "\n",
        "with tf.train.MonitoredSession() as sess:\n",
        "  for step in range(N_TRAINING_STEPS):\n",
        "    sess.run(sgd_op)\n",
        "    \n",
        "  # Profit here."
      ],
      "execution_count": 0,
      "outputs": []
    },
    {
      "cell_type": "code",
      "metadata": {
        "colab_type": "code",
        "cellView": "form",
        "id": "PeDoKg6tiCnp",
        "colab": {}
      },
      "source": [
        "# @title examples\n",
        "\n",
        "# tf.reset_default_graph()\n",
        "\n",
        "# conv_net = snt.nets.ConvNet2D(output_channels=[32, 16, 8], kernel_shapes=[5, 3, 3], strides=[2, 2, 1], paddings=['SAME'])\n",
        "\n",
        "# mlp = snt.nets.MLP(output_sizes=[50, 50, N_LATENT])\n",
        "\n",
        "# inputs = tf.random_normal(shape=(1, 84, 84, 3))  # [N, H, W, C]"
      ],
      "execution_count": 0,
      "outputs": []
    },
    {
      "cell_type": "markdown",
      "metadata": {
        "id": "s2aWFmi0hbWP",
        "colab_type": "text"
      },
      "source": [
        "## The Classical Variational Inference Recipe\n",
        "\n",
        "1. Pick a model $p(x,z)$\n",
        "2. Pick a variational approximation $q(z;\\phi)$\n",
        "3. Write down the objective (the ELBO):\n",
        "$$ \n",
        "\\mathcal{L}(\\phi) = \\mathbb{E}_{q(z;\\phi)} \\big[ \\log p(x,z) - \\log q(z;\\phi) \\big]\n",
        "$$\n",
        "4. Take the expectation\n",
        "  * We need to take the expectation in order to make the dependence on the variational parameters $\\phi$ explicit, in order to take gradients in $\\phi$ to optimise\n",
        "5. Compute the gradient $\\nabla_\\phi \\mathcal{L}$\n",
        "6. Optimise: take a gradient step $\\phi^{\\tau + 1} = \\phi^{\\tau} + \\alpha\\nabla_\\phi\\mathcal{L}$"
      ]
    },
    {
      "cell_type": "markdown",
      "metadata": {
        "id": "fVLWW2OxlwFs",
        "colab_type": "text"
      },
      "source": [
        "### The problem with the recipe and the solution\n",
        "* Problem: Step 4. **We often can't take this expectation analytically**.\n",
        "  * Therefore we can't make the dependence on the variational parameters explicit.\n",
        "  * Therefore we can't take the gradient. We could evaluate it by sampling and use non-gradient methods, but very inefficient.\n",
        "  \n",
        "### The Solution: push the gradient inside the expectation\n",
        "* Let's try to switch the order of steps 4 and 5.\n",
        "* We want to apply the gradient operator $\\nabla_\\phi\\mathcal{L}$ before we take the expectation in $\\mathcal{L}(\\phi) = \\mathbb{E}_{q(z;\\phi)} \\big[ \\log p(x,z) - \\log q(z;\\phi) \\big]$\n",
        "* We need a general way to take gradients of expectations\n",
        "* Then we use stochastic optimisation to take the expectation and profit."
      ]
    },
    {
      "cell_type": "markdown",
      "metadata": {
        "id": "aocJig3_jM9A",
        "colab_type": "text"
      },
      "source": [
        "### Computing Gradients of Expectations\n",
        "Let $g(z,\\phi) =  \\log p(x,z) - \\log q(z;\\phi)$ so that we can rewrite $\\mathcal{L}(\\phi) $ more simply\n",
        "\\begin{align}\n",
        "\\mathcal{L}(\\phi) \n",
        "&= \\mathbb{E}_{q(z;\\phi)} \\big[ \\log p(x,z) - \\log q(z;\\phi) \\big] = \\mathbb{E}_{q(z;\\phi)} \\big[g(z,\\phi)\\big] \n",
        "\\end{align}\n",
        "Now we will derive a new expression for the gradient of the ELBO by pushing the gradient operator inside the expectation:\n",
        "\\begin{align}\n",
        "\\nabla_\\phi\\mathcal{L} \n",
        "&=\\nabla_\\phi  \\int q(z;\\phi) g(z, \\phi)dz \\\\\n",
        "&=\\int \\big(\\nabla_\\phi q(z;\\phi)\\big)g(z, \\phi) + q(z;\\phi)\\big(\\nabla_\\phi g(z, \\phi)\\big) dz \\\\\n",
        "&=\\int \\big(q(z;\\phi)\\nabla_\\phi \\log q(z;\\phi)\\big)g(z, \\phi) + q(z;\\phi)\\big(\\nabla_\\phi g(z, \\phi)\\big) dz\\\\\n",
        "&=\\int q(z;\\phi)  \\big(\\nabla_\\phi \\log\\{q(z;\\phi)\\}g(z, \\phi) +\\nabla_\\phi g(z, \\phi)\\big) dz \\\\\n",
        "&=\\mathbb{E}_{q(z;\\phi)}\\big[\\nabla_\\phi \\log\\{q(z;\\phi)\\}g(z, \\phi) +\\nabla_\\phi g(z, \\phi)\\big]\n",
        "\\end{align}\n",
        "Things to note:\n",
        "*  we have used the log-derivative trick: $\\nabla_\\phi \\log q = \\frac{\\nabla_\\phi q}{q}$\n",
        "* we have been able to introduce the density $q$ into both terms.\n",
        "  * q is a distribution we know and can sample from\n",
        "  * Once an expectation is in terms of a distribution i can sample from, i can use Monte Carlo to construct noisy unbiased gradients\n",
        "  "
      ]
    },
    {
      "cell_type": "markdown",
      "metadata": {
        "id": "g6fA5kou_GXM",
        "colab_type": "text"
      },
      "source": [
        "## The score function estimator"
      ]
    },
    {
      "cell_type": "markdown",
      "metadata": {
        "id": "NRViItRkx4Ed",
        "colab_type": "text"
      },
      "source": [
        "### The score function\n",
        "The score function $\\nabla_\\phi  \\log q(z;\\phi) $ is a statistical measure of how sensitive a likelihood function is to its parameters. It's expectation $\\mathbb{E}_{q(z;\\phi)}\\big[\\nabla_\\phi \\log q(z;\\phi)\\big] = 0$.\n",
        "\n",
        "### Rewriting the ELBO with the score function\n",
        "Now recall the expression for the gradient of the ELBO derived above:\n",
        "\\begin{align}\n",
        "\\nabla_\\phi\\mathcal{L}\n",
        "&= \\mathbb{E}_{q(z;\\phi)}\\big[\\nabla_\\phi \\log\\{q(z;\\phi)\\}g(z, \\phi) + \\nabla_\\phi g(z, \\phi)\\big]\\\\\n",
        "&=  \\mathbb{E}_{q(z;\\phi)}\\big[\\nabla_\\phi \\log\\{q(z;\\phi)\\}g(z, \\phi)\\big] +  \\mathbb{E}_{q(z;\\phi)}\\big[\\nabla_\\phi g(z, \\phi)\\big]\n",
        "\\end{align}\n",
        "Expanding the right hand term:\n",
        "\\begin{align}\n",
        "\\nabla_\\phi g(z, \\phi)\n",
        "&= \\mathbb{E}_{q(z;\\phi)}\\big[\\nabla_\\phi \\big(  \\log p(x,z) - \\log q(z;\\phi) \\big)\\big] \\\\\n",
        "&= \\mathbb{E}_{q(z;\\phi)}\\big[ \\nabla_\\phi \\big(- \\log q(z;\\phi) \\big) \\big]\\\\\n",
        "&=  - \\mathbb{E}_{q(z;\\phi)}\\big[\\nabla_\\phi \\log q(z;\\phi)\\big] = 0\n",
        "\\end{align}\n",
        "\n",
        "Hence we can rewrite the gradient of the ELBO as:\n",
        "\\begin{align}\n",
        "\\nabla_\\phi\\mathcal{L}= \\quad &\\mathbb{E}_{q(z;\\phi)}\\big[\\nabla_\\phi \\log\\{q(z;\\phi)\\}g(z, \\phi)\\big]\\\\\n",
        "= \\quad &\\mathbb{E}_{q(z;\\phi)}\\big[\\nabla_\\phi \\log\\{q(z;\\phi)\\} \\big(\\log p(x,z) - \\log q(z;\\phi)\\big) \\big] \\\\\n",
        "\\approx \\quad &\\frac{1}{L}\\sum_{l=1}^L \\nabla_\\phi \\log\\{q(z^{(l)};\\phi)\\} \\big(\\log p(x,z^{(l)}) - \\log q(z^{(l)};\\phi) \\big) \\qquad z^{(i)} \\sim q(z;\\phi)\n",
        "\\end{align}\n",
        "\n",
        "This is the score function estimator. It is also called the likelihood ratio (from Monte Carlo literature), or REINFORCE gradient.\n"
      ]
    },
    {
      "cell_type": "markdown",
      "metadata": {
        "id": "X6Ie6sNx6IXn",
        "colab_type": "text"
      },
      "source": [
        "### The Problem with the Score Function Estimator: High Variance\n",
        "The variance of the noisy unbiased gradients produced by the score function estimator can be a problem:\n",
        "\\begin{align}\n",
        "\\mathbb{V}_{q(z;\\phi)} = \\mathbb{E}_{q(z;\\phi)} \\bigg[\\big(\\nabla_\\phi \\log\\{q(z;\\phi)\\} (\\log p(x,z) - \\log q(z;\\phi) ) - \\nabla_\\phi\\mathcal{L}\\big)^2 \\bigg]\n",
        "\\end{align}\n",
        "\n",
        "Sampling values that are rare (wrt q) can lead to large scores and thus high variance in the gradient estimates."
      ]
    },
    {
      "cell_type": "markdown",
      "metadata": {
        "id": "d_bLFuDa9I9x",
        "colab_type": "text"
      },
      "source": [
        "### Solution to the Problem with the Score Function Estimator: Control Variates\n",
        "* Replace the function we're trying to compute the expectation of, with another function having the same expectation, but that leads to lower variance in the estimates.\n",
        "  * Replace $f$ with $\\hat{f}$ where $\\mathbb{E}[\\hat{f(z)}] = \\mathbb{E}[f(z)]$\n",
        "  * A general class is $\\hat{f(z)} = f(z) - a(h(z) - \\mathbb{E}[h(z)])$\n",
        "    * a is chosen to minimise the variance\n",
        "    * h is a function of our choice: good h have high correlation with the original function\n",
        "    \n",
        "  * To do black box variational inference, we want an $h$ that has known expectation for a large number of $q$\n",
        "  * A great $h$ is therefore the score function itself, with known expectation  $\\mathbb{E}_{q(z;\\phi)}\\big[\\nabla_\\phi \\log q(z;\\phi)\\big] = 0$."
      ]
    },
    {
      "cell_type": "markdown",
      "metadata": {
        "id": "iv1HT0vT_kRV",
        "colab_type": "text"
      },
      "source": [
        "### Summary of Requirements to do Black Box VI with the score function estimator\n",
        "* Sampling from variational approximation $q(z;\\phi)$\n",
        "* Evaluating $\\nabla_\\phi\\log q(z; \\phi)$\n",
        "* Evaluating $\\log p(x, z)$ and $\\log q(z)$"
      ]
    },
    {
      "cell_type": "markdown",
      "metadata": {
        "id": "VSYmobF7AI1i",
        "colab_type": "text"
      },
      "source": [
        "## Pathwise Estimator\n",
        "Two additional assumptions:\n",
        "1. We can write our variational approximation in terms of a noise source that's parameter free. In other words: \n",
        "  * given some **parameter free source of noise** $\\epsilon\\sim s(\\epsilon)$, that is $\\phi$-independent, \n",
        "  * we can transform that noise variable with a deterministic parameterised function $z = t(\\epsilon, \\phi)$ that is dependent on the variational parameters, to get $z \\sim q(z; \\phi)$\n",
        "2. The model $p(x, z)$and the variational approximation $q(z; \\phi)$ are differentiable with respect to the variational parameters (smoothness in $\\phi$)\n",
        "\n",
        "\n",
        "\n"
      ]
    },
    {
      "cell_type": "markdown",
      "metadata": {
        "id": "ldg8TqijI1Mg",
        "colab_type": "text"
      },
      "source": [
        "### The reparametrization trick\n",
        "Let's dwell a little on the trick used above, whereby we rewrite an expectation w.r.t.  $q(z;\\phi)$ such that the Monte Carlo estimate of the expectation is explicitly differentiable w.r.t. $\\phi$. Here we prove that this rewriting is valid:\n",
        "* Given the deterministic mapping $\\mathbf{z} = t(\\epsilon,\\phi)$, we know that\n",
        "\\begin{align} \n",
        "q_\\phi(\\mathbf{z})\\prod_i dz_i &= p(\\epsilon) \\prod_i d\\epsilon_i \\\\\n",
        "\\implies \\int q(z;\\phi)f(z)dz &= \\int p(\\epsilon)f(z)d\\epsilon \\\\\n",
        "&= \\int p(\\epsilon) f(t(\\epsilon;\\phi))d\\epsilon\n",
        "\\end{align}\n",
        "Honestly I don't know why the implication holds, or even really what the statement about infinitesimals means, let alone why it is true. It seems to say that since $t$ is a deterministic map, there must be some kind of preservation of measure in the infinitesimal cube. \n",
        "\n",
        "* It follows that a differentiable estimator can be constructed\n",
        "$$ \\int q(z \\mid x;\\phi)f(z)dz \\quad \\simeq \\quad \\frac{1}{L} \\sum_{l=1}^{L} f(t(x, \\epsilon,\\phi)) \\qquad \\epsilon\\sim p(\\epsilon)$$\n"
      ]
    },
    {
      "cell_type": "markdown",
      "metadata": {
        "id": "-w1cX8vSIy3o",
        "colab_type": "text"
      },
      "source": [
        "### Computing the Gradient of the ELBO in terms of our transformation and noise source\n",
        "We wil rewrite the expression for the gradient of the ELBO derived above in terms of $z = t(\\epsilon, \\phi)$\n",
        "\\begin{align}\n",
        "\\nabla_\\phi\\mathcal{L}\n",
        "&= \\mathbb{E}_{q(z;\\phi)}\\big[(\\nabla_\\phi \\log\\{q(z;\\phi)\\})g(z, \\phi) + \\nabla_\\phi g(z, \\phi)\\big]\\\\\n",
        "&=\\mathbb{E}_{s(\\epsilon)}\\big[\\nabla_\\phi (\\log\\{t(\\epsilon,\\phi)\\})g(t(\\epsilon, \\phi), \\phi) + \\nabla_\\phi g(t(\\epsilon, \\phi), \\phi)\\big]\\\\\n",
        "\\end{align}\n",
        "\n",
        "Note that the first term in the expectation \n",
        "$\\mathbb{E}_{s(\\epsilon)}\\big[(\\nabla_\\phi\\log s(\\epsilon))g(t(\\epsilon,\\phi),\\phi)\\big]       $ vanishes because $\\nabla_\\phi\\log s(\\epsilon)= 0$, since it is independent of $\\phi$. Hence we are left with the right hand term (which interestingly was the one the vanished when we derived the score function estimator!):\n",
        "\n",
        "\\begin{align}\n",
        "\\nabla_\\phi\\mathcal{L}\n",
        "&=\\mathbb{E}_{s(\\epsilon)}\\big[\\nabla_\\phi g(t(\\epsilon, \\phi),\\phi)\\big] \\\\\n",
        "&=\\mathbb{E}_{s(\\epsilon)}\\big[\\nabla_z g(z,\\phi)\\nabla_\\phi t(\\epsilon,\\phi)   + \n",
        "\\nabla_\\phi g(z,\\phi)\\big] \\\\\n",
        "&=\\mathbb{E}_{s(\\epsilon)}\\big[\\nabla_z (\\log p(x,z) - \\log q(z;\\phi))\\nabla_\\phi t(\\epsilon,\\phi)   + \n",
        "\\nabla_\\phi \\log p(x,z) - \\log q(z;\\phi)\\big] \\\\\n",
        "&=\\mathbb{E}_{s(\\epsilon)}\\big[\\nabla_z (\\log p(x,z) - \\log q(z;\\phi))\\nabla_\\phi t(\\epsilon,\\phi)   -\n",
        "\\nabla_\\phi \\log q(z;\\phi)\\big] \\\\\n",
        "&=\\mathbb{E}_{s(\\epsilon)}\\big[\\nabla_z (\\log p(x,z) - \\log q(z;\\phi))\\nabla_\\phi t(\\epsilon,\\phi)\\big] \\\\\n",
        "\\end{align}"
      ]
    },
    {
      "cell_type": "code",
      "metadata": {
        "id": "HEM05rQUGiS9",
        "colab_type": "code",
        "colab": {}
      },
      "source": [
        ""
      ],
      "execution_count": 0,
      "outputs": []
    }
  ]
}